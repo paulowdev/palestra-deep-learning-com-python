{
 "cells": [
  {
   "cell_type": "code",
   "execution_count": 169,
   "metadata": {},
   "outputs": [],
   "source": [
    "import pandas as pd\n",
    "import numpy as np\n",
    "from sklearn.model_selection import train_test_split\n",
    "from keras.models import Sequential\n",
    "from keras.layers import Dense, Dropout\n",
    "from keras.models import model_from_json\n",
    "from sklearn.metrics import confusion_matrix, accuracy_score\n",
    "import matplotlib.pyplot as plt"
   ]
  },
  {
   "cell_type": "markdown",
   "metadata": {},
   "source": [
    "#### Dataset utilizado: https://archive.ics.uci.edu/ml/datasets/Breast+Cancer+Wisconsin+%28Diagnostic%29"
   ]
  },
  {
   "cell_type": "code",
   "execution_count": 170,
   "metadata": {},
   "outputs": [],
   "source": [
    "previsores = pd.read_csv('entradas_breast.csv')\n",
    "classe = pd.read_csv('saidas_breast.csv')"
   ]
  },
  {
   "cell_type": "code",
   "execution_count": 171,
   "metadata": {},
   "outputs": [
    {
     "data": {
      "text/html": [
       "<div>\n",
       "<style scoped>\n",
       "    .dataframe tbody tr th:only-of-type {\n",
       "        vertical-align: middle;\n",
       "    }\n",
       "\n",
       "    .dataframe tbody tr th {\n",
       "        vertical-align: top;\n",
       "    }\n",
       "\n",
       "    .dataframe thead th {\n",
       "        text-align: right;\n",
       "    }\n",
       "</style>\n",
       "<table border=\"1\" class=\"dataframe\">\n",
       "  <thead>\n",
       "    <tr style=\"text-align: right;\">\n",
       "      <th></th>\n",
       "      <th>radius_mean</th>\n",
       "      <th>texture_mean</th>\n",
       "      <th>perimeter_mean</th>\n",
       "      <th>area_mean</th>\n",
       "      <th>smoothness_mean</th>\n",
       "      <th>compactness_mean</th>\n",
       "      <th>concavity_mean</th>\n",
       "      <th>concave_points_mean</th>\n",
       "      <th>symmetry_mean</th>\n",
       "      <th>fractal_dimension_mean</th>\n",
       "      <th>...</th>\n",
       "      <th>radius_worst</th>\n",
       "      <th>texture_worst</th>\n",
       "      <th>perimeter_worst</th>\n",
       "      <th>area_worst</th>\n",
       "      <th>smoothness_worst</th>\n",
       "      <th>compactness_worst</th>\n",
       "      <th>concavity_worst</th>\n",
       "      <th>concave_points_worst</th>\n",
       "      <th>symmetry_worst</th>\n",
       "      <th>fractal_dimension_worst</th>\n",
       "    </tr>\n",
       "  </thead>\n",
       "  <tbody>\n",
       "    <tr>\n",
       "      <th>0</th>\n",
       "      <td>17.99</td>\n",
       "      <td>10.38</td>\n",
       "      <td>122.80</td>\n",
       "      <td>1001.0</td>\n",
       "      <td>0.11840</td>\n",
       "      <td>0.27760</td>\n",
       "      <td>0.3001</td>\n",
       "      <td>0.14710</td>\n",
       "      <td>0.2419</td>\n",
       "      <td>0.07871</td>\n",
       "      <td>...</td>\n",
       "      <td>25.38</td>\n",
       "      <td>17.33</td>\n",
       "      <td>184.60</td>\n",
       "      <td>2019.0</td>\n",
       "      <td>0.1622</td>\n",
       "      <td>0.6656</td>\n",
       "      <td>0.7119</td>\n",
       "      <td>0.2654</td>\n",
       "      <td>0.4601</td>\n",
       "      <td>0.11890</td>\n",
       "    </tr>\n",
       "    <tr>\n",
       "      <th>1</th>\n",
       "      <td>20.57</td>\n",
       "      <td>17.77</td>\n",
       "      <td>132.90</td>\n",
       "      <td>1326.0</td>\n",
       "      <td>0.08474</td>\n",
       "      <td>0.07864</td>\n",
       "      <td>0.0869</td>\n",
       "      <td>0.07017</td>\n",
       "      <td>0.1812</td>\n",
       "      <td>0.05667</td>\n",
       "      <td>...</td>\n",
       "      <td>24.99</td>\n",
       "      <td>23.41</td>\n",
       "      <td>158.80</td>\n",
       "      <td>1956.0</td>\n",
       "      <td>0.1238</td>\n",
       "      <td>0.1866</td>\n",
       "      <td>0.2416</td>\n",
       "      <td>186.0000</td>\n",
       "      <td>275.0000</td>\n",
       "      <td>0.08902</td>\n",
       "    </tr>\n",
       "    <tr>\n",
       "      <th>2</th>\n",
       "      <td>19.69</td>\n",
       "      <td>21.25</td>\n",
       "      <td>130.00</td>\n",
       "      <td>1203.0</td>\n",
       "      <td>0.10960</td>\n",
       "      <td>0.15990</td>\n",
       "      <td>0.1974</td>\n",
       "      <td>0.12790</td>\n",
       "      <td>0.2069</td>\n",
       "      <td>0.05999</td>\n",
       "      <td>...</td>\n",
       "      <td>23.57</td>\n",
       "      <td>25.53</td>\n",
       "      <td>152.50</td>\n",
       "      <td>1709.0</td>\n",
       "      <td>0.1444</td>\n",
       "      <td>0.4245</td>\n",
       "      <td>0.4504</td>\n",
       "      <td>243.0000</td>\n",
       "      <td>0.3613</td>\n",
       "      <td>0.08758</td>\n",
       "    </tr>\n",
       "    <tr>\n",
       "      <th>3</th>\n",
       "      <td>11.42</td>\n",
       "      <td>20.38</td>\n",
       "      <td>77.58</td>\n",
       "      <td>386.1</td>\n",
       "      <td>0.14250</td>\n",
       "      <td>0.28390</td>\n",
       "      <td>0.2414</td>\n",
       "      <td>0.10520</td>\n",
       "      <td>0.2597</td>\n",
       "      <td>0.09744</td>\n",
       "      <td>...</td>\n",
       "      <td>14.91</td>\n",
       "      <td>26.50</td>\n",
       "      <td>98.87</td>\n",
       "      <td>567.7</td>\n",
       "      <td>0.2098</td>\n",
       "      <td>0.8663</td>\n",
       "      <td>0.6869</td>\n",
       "      <td>0.2575</td>\n",
       "      <td>0.6638</td>\n",
       "      <td>173.00000</td>\n",
       "    </tr>\n",
       "    <tr>\n",
       "      <th>4</th>\n",
       "      <td>20.29</td>\n",
       "      <td>14.34</td>\n",
       "      <td>135.10</td>\n",
       "      <td>1297.0</td>\n",
       "      <td>0.10030</td>\n",
       "      <td>0.13280</td>\n",
       "      <td>198.0000</td>\n",
       "      <td>0.10430</td>\n",
       "      <td>0.1809</td>\n",
       "      <td>0.05883</td>\n",
       "      <td>...</td>\n",
       "      <td>22.54</td>\n",
       "      <td>16.67</td>\n",
       "      <td>152.20</td>\n",
       "      <td>1575.0</td>\n",
       "      <td>0.1374</td>\n",
       "      <td>205.0000</td>\n",
       "      <td>0.4000</td>\n",
       "      <td>0.1625</td>\n",
       "      <td>0.2364</td>\n",
       "      <td>0.07678</td>\n",
       "    </tr>\n",
       "  </tbody>\n",
       "</table>\n",
       "<p>5 rows × 30 columns</p>\n",
       "</div>"
      ],
      "text/plain": [
       "    radius_mean   texture_mean   perimeter_mean   area_mean   smoothness_mean  \\\n",
       "0         17.99          10.38           122.80      1001.0           0.11840   \n",
       "1         20.57          17.77           132.90      1326.0           0.08474   \n",
       "2         19.69          21.25           130.00      1203.0           0.10960   \n",
       "3         11.42          20.38            77.58       386.1           0.14250   \n",
       "4         20.29          14.34           135.10      1297.0           0.10030   \n",
       "\n",
       "    compactness_mean   concavity_mean  concave_points_mean   symmetry_mean  \\\n",
       "0            0.27760           0.3001              0.14710          0.2419   \n",
       "1            0.07864           0.0869              0.07017          0.1812   \n",
       "2            0.15990           0.1974              0.12790          0.2069   \n",
       "3            0.28390           0.2414              0.10520          0.2597   \n",
       "4            0.13280         198.0000              0.10430          0.1809   \n",
       "\n",
       "    fractal_dimension_mean            ...              radius_worst  \\\n",
       "0                  0.07871            ...                     25.38   \n",
       "1                  0.05667            ...                     24.99   \n",
       "2                  0.05999            ...                     23.57   \n",
       "3                  0.09744            ...                     14.91   \n",
       "4                  0.05883            ...                     22.54   \n",
       "\n",
       "    texture_worst   perimeter_worst   area_worst   smoothness_worst  \\\n",
       "0           17.33            184.60       2019.0             0.1622   \n",
       "1           23.41            158.80       1956.0             0.1238   \n",
       "2           25.53            152.50       1709.0             0.1444   \n",
       "3           26.50             98.87        567.7             0.2098   \n",
       "4           16.67            152.20       1575.0             0.1374   \n",
       "\n",
       "    compactness_worst   concavity_worst   concave_points_worst  \\\n",
       "0              0.6656            0.7119                 0.2654   \n",
       "1              0.1866            0.2416               186.0000   \n",
       "2              0.4245            0.4504               243.0000   \n",
       "3              0.8663            0.6869                 0.2575   \n",
       "4            205.0000            0.4000                 0.1625   \n",
       "\n",
       "    symmetry_worst   fractal_dimension_worst  \n",
       "0           0.4601                   0.11890  \n",
       "1         275.0000                   0.08902  \n",
       "2           0.3613                   0.08758  \n",
       "3           0.6638                 173.00000  \n",
       "4           0.2364                   0.07678  \n",
       "\n",
       "[5 rows x 30 columns]"
      ]
     },
     "execution_count": 171,
     "metadata": {},
     "output_type": "execute_result"
    }
   ],
   "source": [
    "previsores.head()"
   ]
  },
  {
   "cell_type": "code",
   "execution_count": 172,
   "metadata": {},
   "outputs": [
    {
     "data": {
      "text/html": [
       "<div>\n",
       "<style scoped>\n",
       "    .dataframe tbody tr th:only-of-type {\n",
       "        vertical-align: middle;\n",
       "    }\n",
       "\n",
       "    .dataframe tbody tr th {\n",
       "        vertical-align: top;\n",
       "    }\n",
       "\n",
       "    .dataframe thead th {\n",
       "        text-align: right;\n",
       "    }\n",
       "</style>\n",
       "<table border=\"1\" class=\"dataframe\">\n",
       "  <thead>\n",
       "    <tr style=\"text-align: right;\">\n",
       "      <th></th>\n",
       "      <th>0</th>\n",
       "    </tr>\n",
       "  </thead>\n",
       "  <tbody>\n",
       "    <tr>\n",
       "      <th>0</th>\n",
       "      <td>0</td>\n",
       "    </tr>\n",
       "    <tr>\n",
       "      <th>1</th>\n",
       "      <td>0</td>\n",
       "    </tr>\n",
       "    <tr>\n",
       "      <th>2</th>\n",
       "      <td>0</td>\n",
       "    </tr>\n",
       "    <tr>\n",
       "      <th>3</th>\n",
       "      <td>0</td>\n",
       "    </tr>\n",
       "    <tr>\n",
       "      <th>4</th>\n",
       "      <td>0</td>\n",
       "    </tr>\n",
       "  </tbody>\n",
       "</table>\n",
       "</div>"
      ],
      "text/plain": [
       "   0\n",
       "0  0\n",
       "1  0\n",
       "2  0\n",
       "3  0\n",
       "4  0"
      ]
     },
     "execution_count": 172,
     "metadata": {},
     "output_type": "execute_result"
    }
   ],
   "source": [
    "classe.head() # (0) Tumor benigno, (1) Tumor maligno"
   ]
  },
  {
   "cell_type": "markdown",
   "metadata": {},
   "source": [
    "## Treinando a rede neural"
   ]
  },
  {
   "cell_type": "code",
   "execution_count": 173,
   "metadata": {},
   "outputs": [],
   "source": [
    "previsores_train, previsores_test, classe_train, classe_test = train_test_split(previsores, classe, test_size=0.20)"
   ]
  },
  {
   "cell_type": "code",
   "execution_count": 174,
   "metadata": {},
   "outputs": [],
   "source": [
    "classificador = Sequential()"
   ]
  },
  {
   "cell_type": "markdown",
   "metadata": {},
   "source": [
    "### Primeira camada oculta"
   ]
  },
  {
   "cell_type": "code",
   "execution_count": 175,
   "metadata": {},
   "outputs": [],
   "source": [
    "# Parâmetros:\n",
    "#\n",
    "# units - Quantidade de neurônios (número de atributos de entrada + número de neurônios de saída / 2)\n",
    "# activation - Função de ativação (ReLU - Rectified Linear Units, melhores resultados em projetos deep learning)\n",
    "# kernel_initializer - Inicialização dos pesos iniciais das camadas\n",
    "# input_dim - Quantidade de elementos/atributos de entrada\n",
    "#\n",
    "# Dropout - Quantidade de neurônios que terão seus valores zerados (utilizado para previnir Overfitting)\n",
    "\n",
    "classificador.add(Dense(units=16, activation='relu', kernel_initializer='random_uniform', input_dim=30))\n",
    "\n",
    "classificador.add(Dropout(0.2))"
   ]
  },
  {
   "cell_type": "markdown",
   "metadata": {},
   "source": [
    "### Segunda camada oculta"
   ]
  },
  {
   "cell_type": "code",
   "execution_count": 176,
   "metadata": {},
   "outputs": [],
   "source": [
    "classificador.add(Dense(units=16, activation='relu', kernel_initializer='random_uniform'))\n",
    "classificador.add(Dropout(0.2))\n",
    "\n",
    "## Terceira camada oculta\n",
    "#classificador.add(Dense(units=8, activation='relu', kernel_initializer='random_uniform'))"
   ]
  },
  {
   "cell_type": "markdown",
   "metadata": {},
   "source": [
    "### Camada de saída"
   ]
  },
  {
   "cell_type": "code",
   "execution_count": 177,
   "metadata": {},
   "outputs": [],
   "source": [
    "# Função de ativação Sigmoid (retorna valores entre 0 e 1)\n",
    "\n",
    "classificador.add(Dense(units=1, activation= 'sigmoid'))"
   ]
  },
  {
   "cell_type": "markdown",
   "metadata": {},
   "source": [
    "### Compilando a rede"
   ]
  },
  {
   "cell_type": "code",
   "execution_count": 178,
   "metadata": {},
   "outputs": [],
   "source": [
    "# Parâmetros:\n",
    "#\n",
    "# optimizer - Função para ajustes dos pesos\n",
    "# loss - Função de perda, tratamento/cálculo do erro\n",
    "# metrics - Função usada para presumir o desempenho do seu modelo\n",
    "\n",
    "classificador.compile(optimizer='adam', loss='binary_crossentropy', metrics=['binary_accuracy'])"
   ]
  },
  {
   "cell_type": "markdown",
   "metadata": {},
   "source": [
    "### Avaliação na base de dados de treinamento"
   ]
  },
  {
   "cell_type": "code",
   "execution_count": 179,
   "metadata": {},
   "outputs": [
    {
     "name": "stdout",
     "output_type": "stream",
     "text": [
      "Epoch 1/100\n",
      "455/455 [==============================] - 1s 1ms/step - loss: 1.6074 - binary_accuracy: 0.5714\n",
      "Epoch 2/100\n",
      "455/455 [==============================] - 0s 156us/step - loss: 0.6464 - binary_accuracy: 0.6418\n",
      "Epoch 3/100\n",
      "455/455 [==============================] - 0s 167us/step - loss: 0.5840 - binary_accuracy: 0.6484\n",
      "Epoch 4/100\n",
      "455/455 [==============================] - 0s 147us/step - loss: 0.5420 - binary_accuracy: 0.7165\n",
      "Epoch 5/100\n",
      "455/455 [==============================] - 0s 152us/step - loss: 0.4961 - binary_accuracy: 0.7538\n",
      "Epoch 6/100\n",
      "455/455 [==============================] - 0s 149us/step - loss: 0.4849 - binary_accuracy: 0.7231\n",
      "Epoch 7/100\n",
      "455/455 [==============================] - 0s 155us/step - loss: 0.4660 - binary_accuracy: 0.8044\n",
      "Epoch 8/100\n",
      "455/455 [==============================] - 0s 138us/step - loss: 0.4696 - binary_accuracy: 0.7560\n",
      "Epoch 9/100\n",
      "455/455 [==============================] - 0s 146us/step - loss: 0.4522 - binary_accuracy: 0.7956\n",
      "Epoch 10/100\n",
      "455/455 [==============================] - 0s 142us/step - loss: 0.4772 - binary_accuracy: 0.7604\n",
      "Epoch 11/100\n",
      "455/455 [==============================] - 0s 156us/step - loss: 0.4291 - binary_accuracy: 0.7912\n",
      "Epoch 12/100\n",
      "455/455 [==============================] - 0s 141us/step - loss: 0.4124 - binary_accuracy: 0.8110\n",
      "Epoch 13/100\n",
      "455/455 [==============================] - 0s 162us/step - loss: 0.3914 - binary_accuracy: 0.8352\n",
      "Epoch 14/100\n",
      "455/455 [==============================] - 0s 163us/step - loss: 0.3913 - binary_accuracy: 0.8198\n",
      "Epoch 15/100\n",
      "455/455 [==============================] - 0s 143us/step - loss: 0.3807 - binary_accuracy: 0.8220\n",
      "Epoch 16/100\n",
      "455/455 [==============================] - 0s 149us/step - loss: 0.3774 - binary_accuracy: 0.8440\n",
      "Epoch 17/100\n",
      "455/455 [==============================] - 0s 156us/step - loss: 0.3231 - binary_accuracy: 0.8593\n",
      "Epoch 18/100\n",
      "455/455 [==============================] - 0s 157us/step - loss: 0.3576 - binary_accuracy: 0.8549\n",
      "Epoch 19/100\n",
      "455/455 [==============================] - 0s 142us/step - loss: 0.3510 - binary_accuracy: 0.8747\n",
      "Epoch 20/100\n",
      "455/455 [==============================] - 0s 150us/step - loss: 0.3296 - binary_accuracy: 0.8637\n",
      "Epoch 21/100\n",
      "455/455 [==============================] - 0s 181us/step - loss: 0.2851 - binary_accuracy: 0.8813\n",
      "Epoch 22/100\n",
      "455/455 [==============================] - 0s 163us/step - loss: 0.3029 - binary_accuracy: 0.8769\n",
      "Epoch 23/100\n",
      "455/455 [==============================] - 0s 164us/step - loss: 0.3278 - binary_accuracy: 0.8593\n",
      "Epoch 24/100\n",
      "455/455 [==============================] - 0s 144us/step - loss: 0.2926 - binary_accuracy: 0.8945\n",
      "Epoch 25/100\n",
      "455/455 [==============================] - 0s 169us/step - loss: 0.3251 - binary_accuracy: 0.8835\n",
      "Epoch 26/100\n",
      "455/455 [==============================] - 0s 149us/step - loss: 0.2668 - binary_accuracy: 0.9033\n",
      "Epoch 27/100\n",
      "455/455 [==============================] - 0s 152us/step - loss: 0.3029 - binary_accuracy: 0.8945\n",
      "Epoch 28/100\n",
      "455/455 [==============================] - 0s 160us/step - loss: 0.3173 - binary_accuracy: 0.8549\n",
      "Epoch 29/100\n",
      "455/455 [==============================] - 0s 132us/step - loss: 0.2872 - binary_accuracy: 0.8835\n",
      "Epoch 30/100\n",
      "455/455 [==============================] - 0s 148us/step - loss: 0.2581 - binary_accuracy: 0.8901\n",
      "Epoch 31/100\n",
      "455/455 [==============================] - 0s 145us/step - loss: 0.2945 - binary_accuracy: 0.8681\n",
      "Epoch 32/100\n",
      "455/455 [==============================] - 0s 142us/step - loss: 0.2801 - binary_accuracy: 0.8901\n",
      "Epoch 33/100\n",
      "455/455 [==============================] - 0s 161us/step - loss: 0.2967 - binary_accuracy: 0.8725\n",
      "Epoch 34/100\n",
      "455/455 [==============================] - 0s 133us/step - loss: 0.2663 - binary_accuracy: 0.8923\n",
      "Epoch 35/100\n",
      "455/455 [==============================] - 0s 148us/step - loss: 0.2496 - binary_accuracy: 0.9055\n",
      "Epoch 36/100\n",
      "455/455 [==============================] - 0s 191us/step - loss: 0.2662 - binary_accuracy: 0.8967\n",
      "Epoch 37/100\n",
      "455/455 [==============================] - 0s 138us/step - loss: 0.2278 - binary_accuracy: 0.9121\n",
      "Epoch 38/100\n",
      "455/455 [==============================] - 0s 157us/step - loss: 0.2652 - binary_accuracy: 0.8901\n",
      "Epoch 39/100\n",
      "455/455 [==============================] - 0s 170us/step - loss: 0.2541 - binary_accuracy: 0.8989\n",
      "Epoch 40/100\n",
      "455/455 [==============================] - 0s 136us/step - loss: 0.2508 - binary_accuracy: 0.8879\n",
      "Epoch 41/100\n",
      "455/455 [==============================] - 0s 158us/step - loss: 0.2416 - binary_accuracy: 0.9077\n",
      "Epoch 42/100\n",
      "455/455 [==============================] - 0s 173us/step - loss: 0.2500 - binary_accuracy: 0.9099\n",
      "Epoch 43/100\n",
      "455/455 [==============================] - 0s 125us/step - loss: 0.2528 - binary_accuracy: 0.9033\n",
      "Epoch 44/100\n",
      "455/455 [==============================] - 0s 158us/step - loss: 0.2607 - binary_accuracy: 0.9077\n",
      "Epoch 45/100\n",
      "455/455 [==============================] - 0s 150us/step - loss: 0.2559 - binary_accuracy: 0.8989\n",
      "Epoch 46/100\n",
      "455/455 [==============================] - 0s 160us/step - loss: 0.2265 - binary_accuracy: 0.9187\n",
      "Epoch 47/100\n",
      "455/455 [==============================] - 0s 148us/step - loss: 0.2356 - binary_accuracy: 0.9143\n",
      "Epoch 48/100\n",
      "455/455 [==============================] - 0s 188us/step - loss: 0.2307 - binary_accuracy: 0.9143\n",
      "Epoch 49/100\n",
      "455/455 [==============================] - 0s 134us/step - loss: 0.2487 - binary_accuracy: 0.9033\n",
      "Epoch 50/100\n",
      "455/455 [==============================] - 0s 141us/step - loss: 0.2631 - binary_accuracy: 0.8923\n",
      "Epoch 51/100\n",
      "455/455 [==============================] - 0s 155us/step - loss: 0.2243 - binary_accuracy: 0.9143\n",
      "Epoch 52/100\n",
      "455/455 [==============================] - 0s 148us/step - loss: 0.2733 - binary_accuracy: 0.8923\n",
      "Epoch 53/100\n",
      "455/455 [==============================] - 0s 159us/step - loss: 0.2195 - binary_accuracy: 0.9253\n",
      "Epoch 54/100\n",
      "455/455 [==============================] - 0s 147us/step - loss: 0.2214 - binary_accuracy: 0.9121\n",
      "Epoch 55/100\n",
      "455/455 [==============================] - 0s 141us/step - loss: 0.2385 - binary_accuracy: 0.9121\n",
      "Epoch 56/100\n",
      "455/455 [==============================] - 0s 150us/step - loss: 0.2263 - binary_accuracy: 0.9121\n",
      "Epoch 57/100\n",
      "455/455 [==============================] - 0s 156us/step - loss: 0.2475 - binary_accuracy: 0.9165\n",
      "Epoch 58/100\n",
      "455/455 [==============================] - 0s 146us/step - loss: 0.2237 - binary_accuracy: 0.8923\n",
      "Epoch 59/100\n",
      "455/455 [==============================] - 0s 137us/step - loss: 0.2330 - binary_accuracy: 0.9099\n",
      "Epoch 60/100\n",
      "455/455 [==============================] - 0s 158us/step - loss: 0.2151 - binary_accuracy: 0.9297\n",
      "Epoch 61/100\n",
      "455/455 [==============================] - 0s 158us/step - loss: 0.2133 - binary_accuracy: 0.9231\n",
      "Epoch 62/100\n",
      "455/455 [==============================] - 0s 151us/step - loss: 0.2154 - binary_accuracy: 0.9209\n",
      "Epoch 63/100\n",
      "455/455 [==============================] - 0s 144us/step - loss: 0.1860 - binary_accuracy: 0.9275\n",
      "Epoch 64/100\n",
      "455/455 [==============================] - 0s 157us/step - loss: 0.1979 - binary_accuracy: 0.9165\n",
      "Epoch 65/100\n",
      "455/455 [==============================] - 0s 138us/step - loss: 0.2263 - binary_accuracy: 0.8945\n",
      "Epoch 66/100\n",
      "455/455 [==============================] - 0s 135us/step - loss: 0.2463 - binary_accuracy: 0.8967\n",
      "Epoch 67/100\n",
      "455/455 [==============================] - 0s 149us/step - loss: 0.1961 - binary_accuracy: 0.9275\n",
      "Epoch 68/100\n",
      "455/455 [==============================] - 0s 198us/step - loss: 0.2271 - binary_accuracy: 0.9011\n",
      "Epoch 69/100\n",
      "455/455 [==============================] - 0s 210us/step - loss: 0.2035 - binary_accuracy: 0.9209\n",
      "Epoch 70/100\n",
      "455/455 [==============================] - 0s 159us/step - loss: 0.2032 - binary_accuracy: 0.9165\n",
      "Epoch 71/100\n",
      "455/455 [==============================] - 0s 151us/step - loss: 0.2043 - binary_accuracy: 0.9319\n",
      "Epoch 72/100\n",
      "455/455 [==============================] - 0s 138us/step - loss: 0.2035 - binary_accuracy: 0.9231\n",
      "Epoch 73/100\n",
      "455/455 [==============================] - 0s 178us/step - loss: 0.1823 - binary_accuracy: 0.9209\n",
      "Epoch 74/100\n",
      "455/455 [==============================] - 0s 177us/step - loss: 0.2334 - binary_accuracy: 0.9077\n",
      "Epoch 75/100\n",
      "455/455 [==============================] - 0s 204us/step - loss: 0.2109 - binary_accuracy: 0.9165\n",
      "Epoch 76/100\n",
      "455/455 [==============================] - 0s 219us/step - loss: 0.2076 - binary_accuracy: 0.9077\n",
      "Epoch 77/100\n",
      "455/455 [==============================] - 0s 169us/step - loss: 0.2045 - binary_accuracy: 0.9209\n",
      "Epoch 78/100\n",
      "455/455 [==============================] - 0s 185us/step - loss: 0.1886 - binary_accuracy: 0.9385\n",
      "Epoch 79/100\n",
      "455/455 [==============================] - 0s 207us/step - loss: 0.1844 - binary_accuracy: 0.9143\n",
      "Epoch 80/100\n",
      "455/455 [==============================] - 0s 193us/step - loss: 0.2073 - binary_accuracy: 0.9231\n",
      "Epoch 81/100\n",
      "455/455 [==============================] - 0s 164us/step - loss: 0.2156 - binary_accuracy: 0.9077\n",
      "Epoch 82/100\n",
      "455/455 [==============================] - 0s 137us/step - loss: 0.1979 - binary_accuracy: 0.9275\n",
      "Epoch 83/100\n",
      "455/455 [==============================] - 0s 179us/step - loss: 0.2186 - binary_accuracy: 0.9055\n",
      "Epoch 84/100\n",
      "455/455 [==============================] - 0s 225us/step - loss: 0.2219 - binary_accuracy: 0.9033\n",
      "Epoch 85/100\n",
      "455/455 [==============================] - 0s 202us/step - loss: 0.1912 - binary_accuracy: 0.9121\n",
      "Epoch 86/100\n",
      "455/455 [==============================] - 0s 167us/step - loss: 0.2018 - binary_accuracy: 0.9187\n",
      "Epoch 87/100\n",
      "455/455 [==============================] - 0s 253us/step - loss: 0.1904 - binary_accuracy: 0.9253\n",
      "Epoch 88/100\n",
      "455/455 [==============================] - 0s 216us/step - loss: 0.1937 - binary_accuracy: 0.9187\n",
      "Epoch 89/100\n",
      "455/455 [==============================] - 0s 186us/step - loss: 0.2036 - binary_accuracy: 0.9165\n",
      "Epoch 90/100\n",
      "455/455 [==============================] - 0s 200us/step - loss: 0.1987 - binary_accuracy: 0.9253\n",
      "Epoch 91/100\n",
      "455/455 [==============================] - 0s 237us/step - loss: 0.2038 - binary_accuracy: 0.9253\n",
      "Epoch 92/100\n",
      "455/455 [==============================] - 0s 222us/step - loss: 0.2079 - binary_accuracy: 0.9099\n",
      "Epoch 93/100\n",
      "455/455 [==============================] - 0s 174us/step - loss: 0.2093 - binary_accuracy: 0.9231\n",
      "Epoch 94/100\n",
      "455/455 [==============================] - 0s 151us/step - loss: 0.2290 - binary_accuracy: 0.9033\n",
      "Epoch 95/100\n",
      "455/455 [==============================] - 0s 140us/step - loss: 0.2082 - binary_accuracy: 0.9143\n",
      "Epoch 96/100\n",
      "455/455 [==============================] - 0s 140us/step - loss: 0.1972 - binary_accuracy: 0.9297\n",
      "Epoch 97/100\n",
      "455/455 [==============================] - 0s 161us/step - loss: 0.2095 - binary_accuracy: 0.9165\n",
      "Epoch 98/100\n",
      "455/455 [==============================] - 0s 151us/step - loss: 0.2104 - binary_accuracy: 0.9231\n",
      "Epoch 99/100\n",
      "455/455 [==============================] - 0s 165us/step - loss: 0.2254 - binary_accuracy: 0.8989\n",
      "Epoch 100/100\n",
      "455/455 [==============================] - 0s 282us/step - loss: 0.2352 - binary_accuracy: 0.9319\n"
     ]
    },
    {
     "data": {
      "text/plain": [
       "<keras.callbacks.History at 0x7fad3d409978>"
      ]
     },
     "execution_count": 179,
     "metadata": {},
     "output_type": "execute_result"
    }
   ],
   "source": [
    "# Parâmetros:\n",
    "#\n",
    "# batch_size - Quantidade de registros a serem calculados e após atualiza/ajusta os pesos\n",
    "# epochs - Quantidade de ajuste dos pesos\n",
    "\n",
    "classificador.fit(previsores_train, classe_train, batch_size=10, epochs=100)"
   ]
  },
  {
   "cell_type": "markdown",
   "metadata": {},
   "source": [
    "### Previsão com base nos dados de testes"
   ]
  },
  {
   "cell_type": "code",
   "execution_count": 180,
   "metadata": {},
   "outputs": [
    {
     "name": "stdout",
     "output_type": "stream",
     "text": [
      "Valores das probabilidades: [[ True]\n",
      " [ True]\n",
      " [False]\n",
      " [ True]\n",
      " [False]\n",
      " [ True]\n",
      " [ True]\n",
      " [ True]\n",
      " [ True]\n",
      " [ True]\n",
      " [ True]\n",
      " [False]\n",
      " [False]\n",
      " [ True]\n",
      " [ True]\n",
      " [False]\n",
      " [ True]\n",
      " [False]\n",
      " [ True]\n",
      " [False]\n",
      " [ True]\n",
      " [ True]\n",
      " [False]\n",
      " [ True]\n",
      " [ True]\n",
      " [ True]\n",
      " [ True]\n",
      " [False]\n",
      " [False]\n",
      " [ True]\n",
      " [ True]\n",
      " [ True]\n",
      " [False]\n",
      " [ True]\n",
      " [ True]\n",
      " [ True]\n",
      " [False]\n",
      " [ True]\n",
      " [ True]\n",
      " [ True]\n",
      " [False]\n",
      " [False]\n",
      " [False]\n",
      " [ True]\n",
      " [ True]\n",
      " [ True]\n",
      " [False]\n",
      " [False]\n",
      " [ True]\n",
      " [ True]\n",
      " [ True]\n",
      " [ True]\n",
      " [ True]\n",
      " [ True]\n",
      " [ True]\n",
      " [ True]\n",
      " [ True]\n",
      " [False]\n",
      " [ True]\n",
      " [ True]\n",
      " [ True]\n",
      " [ True]\n",
      " [ True]\n",
      " [ True]\n",
      " [False]\n",
      " [ True]\n",
      " [False]\n",
      " [ True]\n",
      " [ True]\n",
      " [ True]\n",
      " [ True]\n",
      " [ True]\n",
      " [False]\n",
      " [False]\n",
      " [False]\n",
      " [ True]\n",
      " [ True]\n",
      " [ True]\n",
      " [ True]\n",
      " [ True]\n",
      " [ True]\n",
      " [False]\n",
      " [False]\n",
      " [ True]\n",
      " [False]\n",
      " [ True]\n",
      " [ True]\n",
      " [ True]\n",
      " [ True]\n",
      " [ True]\n",
      " [ True]\n",
      " [False]\n",
      " [False]\n",
      " [ True]\n",
      " [ True]\n",
      " [False]\n",
      " [False]\n",
      " [False]\n",
      " [ True]\n",
      " [ True]\n",
      " [ True]\n",
      " [False]\n",
      " [ True]\n",
      " [ True]\n",
      " [False]\n",
      " [False]\n",
      " [False]\n",
      " [False]\n",
      " [False]\n",
      " [False]\n",
      " [ True]\n",
      " [ True]\n",
      " [False]\n",
      " [ True]]\n"
     ]
    }
   ],
   "source": [
    "previsoes = classificador.predict(previsores_test)\n",
    "# Melhor comparação\n",
    "previsoes = (previsoes > 0.5)\n",
    "print('Valores das probabilidades:', previsoes)\n",
    "# "
   ]
  },
  {
   "cell_type": "markdown",
   "metadata": {},
   "source": [
    "### Medindo o acerto com Sklearn"
   ]
  },
  {
   "cell_type": "code",
   "execution_count": 181,
   "metadata": {},
   "outputs": [],
   "source": [
    "precisao = accuracy_score(classe_test, previsoes)"
   ]
  },
  {
   "cell_type": "code",
   "execution_count": 182,
   "metadata": {},
   "outputs": [
    {
     "data": {
      "text/plain": [
       "0.9210526315789473"
      ]
     },
     "execution_count": 182,
     "metadata": {},
     "output_type": "execute_result"
    }
   ],
   "source": [
    "precisao"
   ]
  },
  {
   "cell_type": "markdown",
   "metadata": {},
   "source": [
    "### Matriz de confusão"
   ]
  },
  {
   "cell_type": "code",
   "execution_count": 183,
   "metadata": {},
   "outputs": [],
   "source": [
    "matriz = confusion_matrix(classe_test, previsoes)"
   ]
  },
  {
   "cell_type": "code",
   "execution_count": 184,
   "metadata": {},
   "outputs": [
    {
     "data": {
      "text/plain": [
       "array([[37,  7],\n",
       "       [ 2, 68]])"
      ]
     },
     "execution_count": 184,
     "metadata": {},
     "output_type": "execute_result"
    }
   ],
   "source": [
    "matriz"
   ]
  },
  {
   "cell_type": "code",
   "execution_count": 185,
   "metadata": {},
   "outputs": [],
   "source": [
    "### Medindo o acerto com o Keras"
   ]
  },
  {
   "cell_type": "code",
   "execution_count": 186,
   "metadata": {},
   "outputs": [
    {
     "name": "stdout",
     "output_type": "stream",
     "text": [
      "114/114 [==============================] - 0s 2ms/step\n"
     ]
    }
   ],
   "source": [
    "resultado = classificador.evaluate(previsores_test, classe_test)"
   ]
  },
  {
   "cell_type": "code",
   "execution_count": 187,
   "metadata": {},
   "outputs": [
    {
     "data": {
      "text/plain": [
       "[0.24221650981589368, 0.9210526315789473]"
      ]
     },
     "execution_count": 187,
     "metadata": {},
     "output_type": "execute_result"
    }
   ],
   "source": [
    "resultado"
   ]
  },
  {
   "cell_type": "markdown",
   "metadata": {},
   "source": [
    "## Salvando os pesos e estrutura da rede neural"
   ]
  },
  {
   "cell_type": "code",
   "execution_count": 188,
   "metadata": {},
   "outputs": [],
   "source": [
    "# Estrutura da rede\n",
    "classificador_json = classificador.to_json()\n",
    "with open('classificador_breast.json', 'w') as json_file:\n",
    "    json_file.write(classificador_json)\n",
    "    \n",
    "# Armazenando os pesos\n",
    "classificador.save_weights('classificador_breast.h5')"
   ]
  },
  {
   "cell_type": "markdown",
   "metadata": {},
   "source": [
    "## Utilizando a estrutura e pesos armazenados"
   ]
  },
  {
   "cell_type": "code",
   "execution_count": 189,
   "metadata": {},
   "outputs": [],
   "source": [
    "arquivo_json = open('classificador_breast.json', 'r')\n",
    "estrutura_rede = arquivo_json.read()\n",
    "arquivo_json.close()\n",
    "\n",
    "# Carregando a estrutura e os pesos\n",
    "classificador = model_from_json(estrutura_rede)\n",
    "classificador.load_weights('classificador_breast.h5')"
   ]
  },
  {
   "cell_type": "code",
   "execution_count": 190,
   "metadata": {},
   "outputs": [],
   "source": [
    "novo_registro = np.array([[15.80, 8.34, 118, 900, 0.10, 0.26, 0.08, 0.134, 0.178,\n",
    "                  0.20, 0.05, 1098, 0.87, 4500, 145.2, 0.005, 0.04, 0.05, 0.015,\n",
    "                  0.03, 0.007, 23.15, 16.64, 178.5, 2018, 0.14, 0.185,\n",
    "                  0.84, 158, 0.363]])\n",
    "previsao = classificador.predict(novo_registro)\n",
    "previsao = (previsao > 0.8)"
   ]
  },
  {
   "cell_type": "code",
   "execution_count": 191,
   "metadata": {},
   "outputs": [
    {
     "data": {
      "text/plain": [
       "array([[ True]])"
      ]
     },
     "execution_count": 191,
     "metadata": {},
     "output_type": "execute_result"
    }
   ],
   "source": [
    "previsao"
   ]
  }
 ],
 "metadata": {
  "kernelspec": {
   "display_name": "Python 3",
   "language": "python",
   "name": "python3"
  },
  "language_info": {
   "codemirror_mode": {
    "name": "ipython",
    "version": 3
   },
   "file_extension": ".py",
   "mimetype": "text/x-python",
   "name": "python",
   "nbconvert_exporter": "python",
   "pygments_lexer": "ipython3",
   "version": "3.5.2"
  }
 },
 "nbformat": 4,
 "nbformat_minor": 2
}
